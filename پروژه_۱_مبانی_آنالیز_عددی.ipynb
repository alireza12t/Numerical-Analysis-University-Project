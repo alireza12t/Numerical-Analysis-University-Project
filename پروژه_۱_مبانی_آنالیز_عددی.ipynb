{
  "nbformat": 4,
  "nbformat_minor": 0,
  "metadata": {
    "colab": {
      "name": "پروژه ۱ مبانی آنالیز عددی.ipynb",
      "provenance": [],
      "collapsed_sections": []
    },
    "kernelspec": {
      "name": "python3",
      "display_name": "Python 3"
    }
  },
  "cells": [
    {
      "cell_type": "code",
      "metadata": {
        "id": "46a3QWqKwYi6",
        "colab": {
          "base_uri": "https://localhost:8080/",
          "height": 17
        },
        "outputId": "940d57cd-75ea-45b3-ba19-18829b24e93f"
      },
      "source": [
        "#run this cell to make text-cells rtl\n",
        "from IPython.core.display import HTML\n",
        "HTML(\"\"\"\n",
        "<style>\n",
        "div.text_cell_render{\n",
        "direction:rtl;\n",
        "}\n",
        "</style>\n",
        "\"\"\")"
      ],
      "execution_count": null,
      "outputs": [
        {
          "output_type": "execute_result",
          "data": {
            "text/html": [
              "\n",
              "<style>\n",
              "div.text_cell_render{\n",
              "direction:rtl;\n",
              "}\n",
              "</style>\n"
            ],
            "text/plain": [
              "<IPython.core.display.HTML object>"
            ]
          },
          "metadata": {
            "tags": []
          },
          "execution_count": 36
        }
      ]
    },
    {
      "cell_type": "markdown",
      "metadata": {
        "id": "sqTIm5iQQX2s"
      },
      "source": [
        "**اعضای گروه :**"
      ]
    },
    {
      "cell_type": "markdown",
      "metadata": {
        "id": "jd-0gJRHQC8b"
      },
      "source": [
        "***امیرحسین داستانی ۹۶۱۳۴۰۸***"
      ]
    },
    {
      "cell_type": "markdown",
      "metadata": {
        "id": "x-iXe5YKQIcN"
      },
      "source": [
        "***یاسمن امی ۹۶۱۳۰۰۵***"
      ]
    },
    {
      "cell_type": "markdown",
      "metadata": {
        "id": "nx-aS7GjPxtR"
      },
      "source": [
        "***علیرضا طغیانی ۹۶۱۳۴۱۶***"
      ]
    },
    {
      "cell_type": "code",
      "metadata": {
        "id": "9piLxvGH9Eco",
        "colab": {
          "base_uri": "https://localhost:8080/"
        },
        "outputId": "3a4dc055-30ce-4fa1-c36c-c20bc87fc230"
      },
      "source": [
        "pip install sympy"
      ],
      "execution_count": null,
      "outputs": [
        {
          "output_type": "stream",
          "text": [
            "Requirement already satisfied: sympy in /usr/local/lib/python3.6/dist-packages (1.1.1)\n",
            "Requirement already satisfied: mpmath>=0.19 in /usr/local/lib/python3.6/dist-packages (from sympy) (1.1.0)\n"
          ],
          "name": "stdout"
        }
      ]
    },
    {
      "cell_type": "markdown",
      "metadata": {
        "id": "BdVp2IGkPIGG"
      },
      "source": [
        "**اینجا از لایبری سیمپای بهره بردیم که در حل معادلات به ما کمک میکند**"
      ]
    },
    {
      "cell_type": "code",
      "metadata": {
        "id": "B_IAaLCzEnnO"
      },
      "source": [
        "from sympy import symbols, Eq, solve, diff, solveset, Interval, sympify"
      ],
      "execution_count": null,
      "outputs": []
    },
    {
      "cell_type": "markdown",
      "metadata": {
        "id": "GpN1EUAoPUNi"
      },
      "source": [
        "تابع زیر با بررسی معادله و دامنه و برد آن شرایط نقطه ثابت رو در معادله بررسی کرده و می‌گوید آیا شرایط نقطه ثابت برقرار بوده یا خیر "
      ]
    },
    {
      "cell_type": "code",
      "metadata": {
        "id": "o70d7_QjxNwT"
      },
      "source": [
        "def checkFixedPoint(eq, a, b):\n",
        "  x = symbols('x')\n",
        "  f_a = eq.evalf(subs = {x : a})\n",
        "  f_b = eq.evalf(subs = {x : b})\n",
        "  dev = diff(eq, x)\n",
        "  dev_0 = solve(dev, x)\n",
        "  points = [a, b]\n",
        "  domain = Interval(a, b)\n",
        "\n",
        "  for i in dev_0:\n",
        "    if domain.contains(i):\n",
        "      points.append(i)\n",
        "      \n",
        "  cp = []\n",
        "  for p in points :\n",
        "    cp.append(eq.evalf(subs = {x : p}))\n",
        "\n",
        "  range = Interval(min(cp), max(cp))\n",
        "\n",
        "\n",
        "  if domain.contains(min(cp)) and domain.contains(max(cp)):\n",
        "    dev2 = diff(dev, x)\n",
        "    points = [a, b]\n",
        "    for p in solve(dev2, x):\n",
        "      if domain.contains(p):\n",
        "        points.append(p)\n",
        "    \n",
        "    cp = []\n",
        "    for p in points:\n",
        "      cp.append(dev.evalf(subs = {x : p}))\n",
        "    \n",
        "    min_cp = min(cp)\n",
        "    max_cp = max(cp)\n",
        "\n",
        "    if min_cp > -1 and min_cp < 1 and max_cp > -1 and max_cp < 1:\n",
        "      return True\n",
        "    else:\n",
        "      return False \n",
        "  else:\n",
        "    return False"
      ],
      "execution_count": null,
      "outputs": []
    },
    {
      "cell_type": "code",
      "metadata": {
        "id": "c95x9lqNxK23"
      },
      "source": [
        "def solver(eqStr, a, b):\n",
        "  x = symbols('x')\n",
        "  eq = sympify(eqStr)\n",
        "  if checkFixedPoint(eq, a, b):\n",
        "    x0, n = map(float, input(\"Enter X_0 and number of repetitions:\").split(\" \"))\n",
        "    points = [x0]\n",
        "    for i in range(int(n)):\n",
        "      points.append(eq.evalf(subs = {x : points[-1]}))\n",
        "    return points\n",
        "  else:\n",
        "    print(\"ERROR => The input function does not have a fixed point theorem condition\")"
      ],
      "execution_count": null,
      "outputs": []
    },
    {
      "cell_type": "markdown",
      "metadata": {
        "id": "qpqx0UKnvwP_"
      },
      "source": [
        "برای محاسبه، به تابع ‍`solver` به ترتیب معادله،نقطه‌ی ابتدا و نقطه‌ی انتهای بازه را ورودی دهید"
      ]
    },
    {
      "cell_type": "code",
      "metadata": {
        "id": "_KScqBWmvZ3V",
        "colab": {
          "base_uri": "https://localhost:8080/"
        },
        "outputId": "2c0bd02c-cb4f-45be-bc30-48f601ab8fa5"
      },
      "source": [
        "solver(\"1/3*x**2-1/3\", -1, 1)"
      ],
      "execution_count": null,
      "outputs": [
        {
          "output_type": "stream",
          "text": [
            "Enter X_0 and number of repetitions:-1 4\n"
          ],
          "name": "stdout"
        },
        {
          "output_type": "execute_result",
          "data": {
            "text/plain": [
              "[-1.0, 0.e-125, -0.333333333333333, -0.296296296296296, -0.304069501600366]"
            ]
          },
          "metadata": {
            "tags": []
          },
          "execution_count": 33
        }
      ]
    }
  ]
}