{
  "nbformat": 4,
  "nbformat_minor": 0,
  "metadata": {
    "colab": {
      "name": "9613416_NA03.ipynb",
      "provenance": []
    },
    "kernelspec": {
      "name": "python3",
      "display_name": "Python 3"
    }
  },
  "cells": [
    {
      "cell_type": "code",
      "metadata": {
        "id": "hXJUFLTU69mO"
      },
      "source": [
        "import numpy as np\n",
        "from math import sqrt"
      ],
      "execution_count": 18,
      "outputs": []
    },
    {
      "cell_type": "code",
      "metadata": {
        "id": "uw02mR8o7DVN"
      },
      "source": [
        "def is_definite_positive(M):\n",
        "  if np.array_equal(A, A.T):\n",
        "        try:\n",
        "          if cholesky_decomposition(M) is not None:\n",
        "            return True\n",
        "          else:\n",
        "            return False\n",
        "        except:\n",
        "            return False\n",
        "  else:\n",
        "        return False\n",
        "  # return np.all(np.linalg.eigvals(x) > 0)\n",
        "  # try :\n",
        "  #   \n",
        "  # except:\n",
        "  #   return False"
      ],
      "execution_count": 195,
      "outputs": []
    },
    {
      "cell_type": "code",
      "metadata": {
        "id": "8cwTgJpaUhau"
      },
      "source": [
        "def get_matrix():\n",
        "  r = int(input(\"Enter the number of rows and columns: \"))\n",
        "  rowList = []\n",
        "  for i in range(r):\n",
        "    row = list(map(float, input().split(\" \")))\n",
        "    rowList.append(row)\n",
        "  return np.matrix(rowList)"
      ],
      "execution_count": 78,
      "outputs": []
    },
    {
      "cell_type": "code",
      "metadata": {
        "id": "EkxTy7yYeAFt"
      },
      "source": [
        "def get_vector():\n",
        "  v = list(map(float, input(\"Enter vector: \").split(\" \")))\n",
        "  return np.array(v)"
      ],
      "execution_count": 200,
      "outputs": []
    },
    {
      "cell_type": "code",
      "metadata": {
        "id": "bGYDmD4UqHWu"
      },
      "source": [
        "def matrix_multiply(A,B):\n",
        "  r1 = len(A)\n",
        "  c1 = len(A[0])\n",
        "\n",
        "  r2 = len(B)\n",
        "  c2 = len(B[0])\n",
        "\n",
        "  if c1 != r2:\n",
        "    print('Number of A columns must equal number of B rows.')\n",
        "    sys.exit()\n",
        "\n",
        "  C = np.zeros((rowsA, colsB))\n",
        "\n",
        "  for i in range(rowsA):\n",
        "    for j in range(colsB):\n",
        "      total = 0\n",
        "      for ii in range(colsA):\n",
        "        total += A[i][ii] * B[ii][j]\n",
        "      C[i][j] = total\n",
        "\n",
        "  return C"
      ],
      "execution_count": 184,
      "outputs": []
    },
    {
      "cell_type": "code",
      "metadata": {
        "id": "36MjOr1xeZCH"
      },
      "source": [
        "def gauss_lu(M):\n",
        "  n = len(M)\n",
        "  a = np.copy(M)\n",
        "  L = np.zeros_like(M)\n",
        "  U = np.zeros_like(M)\n",
        "\n",
        "  for i in range(0, n):\n",
        "    L[i, i] = 1\n",
        "\n",
        "\n",
        "  for k in range(0,n-1):\n",
        "    for i in range(k+1,n):\n",
        "      if a[i,k] != 0.0:\n",
        "        lam = a[i,k]/a[k,k]\n",
        "        a[i,k+1:n] = a[i,k+1:n] - lam*a[k,k+1:n]\n",
        "        a[i,k] = lam\n",
        "        \n",
        "  for i in range(0, n):\n",
        "    for j in range(0, n):\n",
        "      if j >= i:\n",
        "        U[i, j] = a[i, j]\n",
        "      else:\n",
        "        L[i, j] = a[i, j]\n",
        "    \n",
        "  return L, U"
      ],
      "execution_count": 139,
      "outputs": []
    },
    {
      "cell_type": "code",
      "metadata": {
        "id": "E0yjDV7HbGaO"
      },
      "source": [
        "def cholesky_decomposition(M):\n",
        "    A = np.copy(M)\n",
        "    n = A.shape[0]\n",
        "    R = np.zeros_like(A)\n",
        "\n",
        "    for k in range(n):\n",
        "        R[k, k] = sqrt(A[k, k])\n",
        "        R[k, k + 1:] = A[k, k + 1:] / float(R[k, k])\n",
        "        for j in range(k + 1, n):\n",
        "            A[j, j:] = A[j, j:] - R[k, j] * R[k, j:]\n",
        "\n",
        "    return R"
      ],
      "execution_count": 80,
      "outputs": []
    },
    {
      "cell_type": "code",
      "metadata": {
        "id": "wmWULnehG_L1"
      },
      "source": [
        "def solve_system(A, b):\n",
        "  \n",
        "  n = len(A)\n",
        "  if A[n-1, 0] == 0:\n",
        "    x = np.zeros(n)\n",
        "    for i in range(n-1, -1, -1):\n",
        "      tmp = b[i]\n",
        "      for j in range(i+1, n):\n",
        "        tmp -= A[i,j] * x[j]\n",
        "      x[i] = tmp / A[i,i]\n",
        "    return x\n",
        "  else:\n",
        "    x = np.zeros_like(b)\n",
        "    AM = np.copy(A)\n",
        "    BM = np.copy(b)\n",
        " \n",
        "    indices = list(range(n))\n",
        "    for fd in range(n): \n",
        "      fdScaler = 1.0 / AM[fd, fd]\n",
        "      for j in range(n): \n",
        "        AM[fd, j] *= fdScaler\n",
        "      BM[fd] *= fdScaler\n",
        "     \n",
        "      for i in indices[0:fd] + indices[fd+1:]: \n",
        "        crScaler = AM[i, fd]\n",
        "        for j in range(n): \n",
        "          AM[i, j] = AM[i, j] - crScaler * AM[fd, j]\n",
        "        BM[i] = BM[i] - crScaler * BM[fd]\n",
        "\n",
        "    return BM"
      ],
      "execution_count": 201,
      "outputs": []
    },
    {
      "cell_type": "code",
      "metadata": {
        "colab": {
          "base_uri": "https://localhost:8080/"
        },
        "id": "DiwTbYNo7Go9",
        "outputId": "8e3863bc-d621-4e65-d31a-e8f6d4134dbb"
      },
      "source": [
        "m = get_matrix()\n",
        "v = get_vector()\n",
        "\n",
        "if len(m) == len(v):\n",
        "  if is_definite_positive(m):\n",
        "    R = cholesky_decomposition(m)\n",
        "    RT = R.T\n",
        "    print(R)\n",
        "    print(R.T)\n",
        "    y = solve_system(R, v)\n",
        "    x = solve_system(RT, y)\n",
        "    print(x)\n",
        "  else:\n",
        "    L, U = gauss_lu(m)\n",
        "    y = solve_system(L, v)\n",
        "    x = solve_system(U, y)\n",
        "    print(x)\n",
        "else:\n",
        "  print(\"Invalid input\")\n"
      ],
      "execution_count": 204,
      "outputs": [
        {
          "output_type": "stream",
          "text": [
            "Enter the number of rows and columns: 2\n",
            "2 1\n",
            "1 2\n",
            "Enter vector: 2 33\n",
            "[-9.66666667 21.33333333]\n"
          ],
          "name": "stdout"
        }
      ]
    },
    {
      "cell_type": "markdown",
      "metadata": {
        "id": "_cYcI_Iym5r0"
      },
      "source": [
        "# **Sample example for LU solving**\n",
        "   Enter the number of rows and columns: 3\n",
        " 1 1 1\n",
        " 4 3 -1\n",
        " 3 5 3\n",
        "\n",
        " Enter vector:1 6 4\n",
        "\n",
        "\n",
        "```\n",
        "L =  [\n",
        "  [ 1.  0.  0.]\n",
        "  [ 4.  1.  0.]\n",
        "  [ 3. -2.  1.]\n",
        "  ]\n",
        "```\n",
        "```\n",
        " U = [\n",
        "   [  1.   1.   1.]\n",
        "  [  0.  -1.  -5.]\n",
        "  [  0.   0. -10.]\n",
        " ]\n",
        "```\n",
        "\n",
        "` x = [ 1.   0.5 -0.5]`"
      ]
    }
  ]
}