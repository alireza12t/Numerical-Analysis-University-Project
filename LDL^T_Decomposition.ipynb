{
  "nbformat": 4,
  "nbformat_minor": 0,
  "metadata": {
    "colab": {
      "name": "LDL^T Decomposition.ipynb",
      "provenance": []
    },
    "kernelspec": {
      "name": "python3",
      "display_name": "Python 3"
    }
  },
  "cells": [
    {
      "cell_type": "code",
      "metadata": {
        "id": "hXJUFLTU69mO"
      },
      "source": [
        "import numpy as np\n",
        "from math import sqrt"
      ],
      "execution_count": 1,
      "outputs": []
    },
    {
      "cell_type": "code",
      "metadata": {
        "id": "uw02mR8o7DVN"
      },
      "source": [
        "def is_definite_positive(M):\n",
        "  return np.all(np.linalg.eigvals(M) > 0)"
      ],
      "execution_count": 30,
      "outputs": []
    },
    {
      "cell_type": "code",
      "metadata": {
        "id": "oiCa_uC_j6uv"
      },
      "source": [
        "def check_symmetric(a, rtol=1e-05, atol=1e-08):\n",
        "  return np.allclose(a, a.T, rtol=rtol, atol=atol)"
      ],
      "execution_count": 11,
      "outputs": []
    },
    {
      "cell_type": "code",
      "metadata": {
        "id": "8cwTgJpaUhau"
      },
      "source": [
        "def get_matrix():\n",
        "  r = int(input(\"Enter the number of rows and columns: \"))\n",
        "  rowList = []\n",
        "  for i in range(r):\n",
        "    row = list(map(float, input().split(\" \")))\n",
        "    rowList.append(row)\n",
        "  return np.matrix(rowList)"
      ],
      "execution_count": 3,
      "outputs": []
    },
    {
      "cell_type": "code",
      "metadata": {
        "id": "bGYDmD4UqHWu"
      },
      "source": [
        "def matrix_multiply(A,B):\n",
        "  r1 = len(A)\n",
        "  c1 = len(A[0])\n",
        "\n",
        "  r2 = len(B)\n",
        "  c2 = len(B[0])\n",
        "\n",
        "  if c1 != r2:\n",
        "    print('Number of A columns must equal number of B rows.')\n",
        "    sys.exit()\n",
        "\n",
        "  C = np.zeros((rowsA, colsB))\n",
        "\n",
        "  for i in range(rowsA):\n",
        "    for j in range(colsB):\n",
        "      total = 0\n",
        "      for ii in range(colsA):\n",
        "        total += A[i][ii] * B[ii][j]\n",
        "      C[i][j] = total\n",
        "\n",
        "  return C"
      ],
      "execution_count": 4,
      "outputs": []
    },
    {
      "cell_type": "code",
      "metadata": {
        "id": "36MjOr1xeZCH"
      },
      "source": [
        "def gauss_lu(M):\n",
        "  n = len(M)\n",
        "  a = np.copy(M)\n",
        "  L = np.zeros_like(M)\n",
        "  U = np.zeros_like(M)\n",
        "\n",
        "  for i in range(0, n):\n",
        "    L[i, i] = 1\n",
        "\n",
        "\n",
        "  for k in range(0,n-1):\n",
        "    for i in range(k+1,n):\n",
        "      if a[i,k] != 0.0:\n",
        "        lam = a[i,k]/a[k,k]\n",
        "        a[i,k+1:n] = a[i,k+1:n] - lam*a[k,k+1:n]\n",
        "        a[i,k] = lam\n",
        "        \n",
        "  for i in range(0, n):\n",
        "    for j in range(0, n):\n",
        "      if j >= i:\n",
        "        U[i, j] = a[i, j]\n",
        "      else:\n",
        "        L[i, j] = a[i, j]\n",
        "    \n",
        "  return L, U"
      ],
      "execution_count": 5,
      "outputs": []
    },
    {
      "cell_type": "code",
      "metadata": {
        "id": "0wIoVpi1p_8E"
      },
      "source": [
        "def LDLT_decomposition(A):\n",
        "  if check_symmetric(m):\n",
        "    if is_definite_positive(m):\n",
        "      L, U = gauss_lu(m)\n",
        "      LT = L.T\n",
        "      LT_reverse = np.linalg.inv(LT)\n",
        "      D = np.dot(U, LT_reverse)\n",
        "      return L,D\n",
        "    else:\n",
        "      print(\"Invalid Input Matrix A is not positive definite\")\n",
        "  else:\n",
        "    print(\"Invalid Input Matrix A is notsymmetric\")"
      ],
      "execution_count": 34,
      "outputs": []
    },
    {
      "cell_type": "code",
      "metadata": {
        "colab": {
          "base_uri": "https://localhost:8080/"
        },
        "id": "DiwTbYNo7Go9",
        "outputId": "eb41f27a-59f1-44e9-8660-050113d219fd"
      },
      "source": [
        "# m = np.matrix([\n",
        "#                [2, 4, -2, 2],\n",
        "#                [4, 9, -1, 6],\n",
        "#                [-2, -1, 14, 13],\n",
        "#                [2, 6, 13, 35]\n",
        "# ])\n",
        "\n",
        "m = get_matrix()\n",
        "\n",
        "L,D = LDLT_decomposition(m)\n",
        "print(\"L = \")\n",
        "print(L)\n",
        "print(\"D = \")\n",
        "print(D)\n"
      ],
      "execution_count": 38,
      "outputs": [
        {
          "output_type": "stream",
          "text": [
            "L = \n",
            "[[ 1  0  0  0]\n",
            " [ 2  1  0  0]\n",
            " [-1  3  1  0]\n",
            " [ 1  2  3  1]]\n",
            "D = \n",
            "[[2. 0. 0. 0.]\n",
            " [0. 1. 0. 0.]\n",
            " [0. 0. 3. 0.]\n",
            " [0. 0. 0. 2.]]\n"
          ],
          "name": "stdout"
        }
      ]
    },
    {
      "cell_type": "markdown",
      "metadata": {
        "id": "_cYcI_Iym5r0"
      },
      "source": [
        "# **Sample example for LU solving**\n",
        "   Enter the number of rows and columns: 4\n",
        "\n",
        "\n",
        "``` \n",
        "2 4 -2 2\n",
        "4 9 -1 6\n",
        "-2 -1 14 13\n",
        "2 6 13 35\n",
        "```\n",
        "\n",
        "\n",
        "L\n",
        "```\n",
        "1 0 0 0\n",
        "2 1 0 0\n",
        "-1 3 1 0\n",
        "1 2 3 1\n",
        "```\n",
        "\n",
        "D\n",
        "```\n",
        "2 0 0 0\n",
        "0 1 0 0\n",
        "0 0 3 0\n",
        "0 0 0 2\n",
        "```\n",
        "\n",
        "L^T\n",
        "```\n",
        "1 2 -1 1\n",
        "0 1 3 2\n",
        "0 0 1 3\n",
        "0 0 0 1\n",
        "```\n"
      ]
    }
  ]
}