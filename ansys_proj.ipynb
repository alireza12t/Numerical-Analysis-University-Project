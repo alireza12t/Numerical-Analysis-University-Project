{
  "nbformat": 4,
  "nbformat_minor": 0,
  "metadata": {
    "colab": {
      "name": "ansys_proj.ipynb",
      "provenance": [],
      "collapsed_sections": []
    },
    "kernelspec": {
      "name": "python3",
      "display_name": "Python 3"
    },
    "language_info": {
      "name": "python"
    }
  },
  "cells": [
    {
      "cell_type": "code",
      "metadata": {
        "id": "Y2vvUCBmGHrH"
      },
      "source": [
        "import numpy as np\n",
        "from scipy.sparse import diags\n",
        "from numpy.linalg import inv\n",
        "from numpy.linalg import norm\n",
        "import matplotlib.pyplot as plt\n",
        "import time\n",
        "import math"
      ],
      "execution_count": null,
      "outputs": []
    },
    {
      "cell_type": "markdown",
      "metadata": {
        "id": "e1QzvSimGJ6y"
      },
      "source": [
        "### **الف**"
      ]
    },
    {
      "cell_type": "code",
      "metadata": {
        "id": "LJpzoUbPEcLj"
      },
      "source": [
        "#################################################################\n",
        "#Jacobi Meth\n",
        "#################################################################\n",
        "print('jacobi part...')\n",
        "from numpy import array, zeros, diag, diagflat, dot\n",
        "from numpy.linalg import norm\n",
        "def jacobi(A,B,x=None):\n",
        "                                                                                                                                                                \n",
        "    if x is None:\n",
        "        new_x = np.zeros(len(A[0]))                                                                                                                                                 \n",
        "    Di = np.diag(A)\n",
        "    R = A - np.diagflat(Di)\n",
        "    cond = True\n",
        "    e = 0.0001\n",
        "    iter = 0\n",
        "    x=[]\n",
        "    # Iterate for N times                                                                                                                                                                          \n",
        "    while cond:\n",
        "        x = new_x\n",
        "        new_x = np.dot(inv(np.diagflat(Di)),B - np.dot(R,x))\n",
        "        cond = norm(new_x - x) > e\n",
        "        iter+=1\n",
        "    return x, iter\n",
        "dim = [4, 16, 64, 256, 1024]\n",
        "j_solutions = []\n",
        "j_times = []\n",
        "j_iter = []\n",
        "for n in dim:\n",
        "    A = diags([-1, 4, -1], [-1, 0, 1], shape=(n, n)).toarray()   \n",
        "    b = np.ones(n, dtype=int)\n",
        "    s_time=time.time()\n",
        "    solution,iter = jacobi(A,b)  \n",
        "    e_time=time.time()\n",
        "    real_solution = x = np.linalg.solve(A,b)\n",
        "    j_iter.append(iter)\n",
        "    j_times.append(e_time - s_time)\n",
        "    j_solutions.append(sol)         \n",
        "    \n",
        "    print(f'\\n$$ of iterations for n={n} : {iter}')\n",
        "    print(\" Real Solution is : \\n\", real_solution)\n",
        "    print(f\"\\n Jacobi Solution is :\\n{solution} \\n\")"
      ],
      "execution_count": null,
      "outputs": []
    },
    {
      "cell_type": "code",
      "metadata": {
        "id": "0Zb9_gXjM_5Y"
      },
      "source": [
        "#################################################################\n",
        "#Gaus Seidel\n",
        "#################################################################\n",
        "print('Gaus Seidel part...')\n",
        "from numpy import array, zeros, diag, diagflat, dot\n",
        "from numpy.linalg import norm\n",
        "def gaus(A,B,x=None):\n",
        "                                                                                                                                                          \n",
        "    if x is None:\n",
        "        x = np.zeros(len(A[0]))\n",
        "\n",
        "   \n",
        "    DL = np.tril(A,0)\n",
        "    U = np.triu(A,1)\n",
        "    cond = True\n",
        "    e = 0.0001\n",
        "    iter = 0\n",
        "                                                                                                                                                                             \n",
        "    while cond:\n",
        "        new_x = np.dot(inv(DL), B - np.dot(U,x))\n",
        "        cond = norm(new_x - x) > e\n",
        "        x = new_x\n",
        "        iter +=1\n",
        "    return x, iter\n",
        "dim = [4, 16, 64, 256, 1024]\n",
        "gs_solutions = []\n",
        "gs_times = []\n",
        "gs_iter = []\n",
        "for n in dim:\n",
        "    A = diags([-1, 4, -1], [-1, 0, 1], shape=(n, n)).toarray()   \n",
        "    b = np.ones(n, dtype=int)\n",
        "    s_time=time.time()\n",
        "    solution,iter = gaus(A,b)  \n",
        "    e_time=time.time()\n",
        "    real_solution = x = np.linalg.solve(A,b) \n",
        "    gs_iter.append(iter)\n",
        "    gs_times.append(e_time - s_time)\n",
        "    gs_solutions.append(solution)         \n",
        "    print(f'\\n$$ of iterations for n={len(A[0])} : {iter}')\n",
        "    print(\" Real Solution is : \\n\", real_solution)\n",
        "    print(\"\\n gaus seidel Solution is : \\n\", solution)"
      ],
      "execution_count": null,
      "outputs": []
    },
    {
      "cell_type": "code",
      "metadata": {
        "id": "uqhtlKxFOP2i"
      },
      "source": [
        "#################################################################\n",
        "#SOR\n",
        "#################################################################\n",
        "print('SOR part')\n",
        "from numpy import array, zeros, diag, diagflat, dot\n",
        "from numpy.linalg import norm\n",
        "def SOR(A,B,W,x=None):\n",
        "                                                                                                                                                          \n",
        "    if x is None:\n",
        "        new_x = np.zeros(len(A[0]))\n",
        "\n",
        "                                                                                                                                                                       \n",
        "    D = np.diagflat(np.diag(A))\n",
        "    L = np.tril(A,-1)\n",
        "    DWL = D + w*L\n",
        "    U = np.triu(A,1)\n",
        "    cond = True\n",
        "    e = 0.0001\n",
        "    iter = 0\n",
        "                                                                                                                                                                          \n",
        "    while cond:\n",
        "        x = new_x\n",
        "        new_x = np.dot(inv(DWL), W*B + np.dot((1-W)*D -W*U,x))\n",
        "        cond = norm(new_x - x) > e\n",
        "        iter +=1\n",
        "    return x, iter\n",
        "dim = [4, 16, 64, 256, 1024]\n",
        "sor_solutions = []\n",
        "sor_times = []\n",
        "sor_iter = []\n",
        "for n in dim:\n",
        "    A = diags([-1, 4, -1], [-1, 0, 1], shape=(n, n)).toarray()   \n",
        "    b = np.ones(n, dtype=int)\n",
        "    s_time=time.time()\n",
        "    solution,iter = SOR(A,b, W=1.5) \n",
        "    e_time=time.time() \n",
        "    real_solution = x = np.linalg.solve(A,b) \n",
        "    sor_iter.append(iter)\n",
        "    sor_times.append(e_time - s_time)\n",
        "    sor_solutions.append(solution)         \n",
        "    print(f'\\n$$ of iterations for n={len(A[0])} : {iter}')    \n",
        "    print(\" Real Solution is : \\n\", real_solution)\n",
        "    print(\"\\n SOR Solution is : \\n\",solution)\n",
        "dim = [4, 16, 64, 256, 1024]\n",
        "sor_solutions = []\n",
        "wsor_times = []\n",
        "wsor_iter = []\n",
        "w_vals=[1.1,1.3,1.5,1.7,1.9]\n",
        "for w in w_vals:\n",
        "    t=[]\n",
        "    iters=[]\n",
        "    for n in dim:\n",
        "        A = diags([-1, 4, -1], [-1, 0, 1], shape=(n, n)).toarray()   \n",
        "        b = np.ones(n, dtype=int)\n",
        "        s_time=time.time()\n",
        "        sol,iter = SOR(A,b, W=w) \n",
        "        e_time=time.time() \n",
        "        iters.append(iter)\n",
        "        t.append(e_time - s_time)\n",
        "    wsor_iter.append(iters)\n",
        "    wsor_times.append(t)\n",
        "  \n"
      ],
      "execution_count": null,
      "outputs": []
    },
    {
      "cell_type": "markdown",
      "metadata": {
        "id": "jiCNcEpJSOmE"
      },
      "source": [
        "## **ب** "
      ]
    },
    {
      "cell_type": "markdown",
      "metadata": {
        "id": "mic8XhMwSx7L"
      },
      "source": [
        "SOR with diffrent \"W\" value"
      ]
    },
    {
      "cell_type": "code",
      "metadata": {
        "id": "2WCTbop2SVWJ"
      },
      "source": [
        "x = [4, 16, 64, 256, 1024]\n",
        "vals =[1,2,4,7,12]\n",
        "for w,t in zip(w_vals,wsor_times):\n",
        "    plt.plot(vals,t, label = \"SOR w = \"+str(w))\n",
        "plt.ylabel(\"Time\")\n",
        "plt.xlabel('Mat Size')\n",
        "plt.legend()\n",
        "plt.xticks(vals, x)\n",
        "plt.savefig(\"w_compare_times.png\",dpi=500) \n",
        "plt.show()"
      ],
      "execution_count": null,
      "outputs": []
    },
    {
      "cell_type": "markdown",
      "metadata": {
        "id": "-9q2QsWQTcsT"
      },
      "source": [
        "Compare all three algorithms together when \"W\"=1.1 in SOR"
      ]
    },
    {
      "cell_type": "code",
      "metadata": {
        "id": "U7FDAP_lTZYy"
      },
      "source": [
        "x = [4, 16, 64, 256, 1024]\n",
        "vals =[1,2,4,7,12]\n",
        "plt.plot(vals,wsor_times[0], label = \"SOR w = 1.1\")\n",
        "plt.plot(vals,gs_times, label = \"Gaus\")\n",
        "plt.plot(vals,j_times, label = \"Jacobi\")\n",
        "plt.ylabel(\"Time\")\n",
        "plt.xlabel('Mat Size')\n",
        "plt.legend()\n",
        "plt.xticks(vals, x)\n",
        "plt.yticks(np.arange(0, max(sor_times+gs_times+j_times), 0.2))\n",
        "plt.savefig(\"time.png\",dpi=500) \n",
        "plt.show()\n"
      ],
      "execution_count": null,
      "outputs": []
    },
    {
      "cell_type": "markdown",
      "metadata": {
        "id": "Rq3r7wtQU3LZ"
      },
      "source": [
        "Number of iterations in SOR with diffrent \"W\" value"
      ]
    },
    {
      "cell_type": "code",
      "metadata": {
        "id": "dLkCsMaSVEnL"
      },
      "source": [
        "x = [4, 16, 64, 256, 1024]\n",
        "vals =[1,2,4,7,12]\n",
        "for w,t in zip(w_vals,wsor_iter):\n",
        "    plt.plot(vals,t, label = \"SOR w = \"+str(w))\n",
        "plt.ylabel('iterations num')\n",
        "plt.xlabel('Mat Size')\n",
        "plt.legend()\n",
        "plt.xticks(vals, x)\n",
        "plt.savefig(\"w_compare_iterations.png\",dpi=500) \n",
        "plt.show()"
      ],
      "execution_count": null,
      "outputs": []
    },
    {
      "cell_type": "markdown",
      "metadata": {
        "id": "15_XQrRFVlqW"
      },
      "source": [
        "Compare iterations num in all three algorithms together when \"W\"=1.1 in SOR"
      ]
    },
    {
      "cell_type": "code",
      "metadata": {
        "id": "AjGCruxSVvpy"
      },
      "source": [
        "x = [4, 16, 64, 256, 1024]\n",
        "vals =[1,2,4,7,12]\n",
        "plt.plot(vals,wsor_iter[0], label = 'SOR w=1.1')\n",
        "plt.plot(vals,gs_iter, label = 'Gaus')\n",
        "plt.plot(vals,j_iter, label = 'Jacobi')\n",
        "plt.ylabel('iterations num')\n",
        "plt.xlabel('Mat Size')\n",
        "plt.legend()\n",
        "plt.xticks(vals, x)\n",
        "plt.savefig(\"iterations.png\",dpi=500) \n",
        "plt.show()"
      ],
      "execution_count": null,
      "outputs": []
    },
    {
      "cell_type": "markdown",
      "metadata": {
        "id": "BGqRsUtRXkAd"
      },
      "source": [
        "## **ج**"
      ]
    },
    {
      "cell_type": "code",
      "metadata": {
        "id": "6Ahe2kS0ZPEs"
      },
      "source": [
        "def LU(A):\n",
        "  n = A.shape[0]\n",
        "  L = np.zeros_like(A)\n",
        "  U = np.zeros_like(A)\n",
        "\n",
        "  for i in range(0, n):\n",
        "    L[i, i] = 1\n",
        "\n",
        "  for k in range(n-1):\n",
        "    for i in range(k+1,n):          \n",
        "      A[i,k] = A[i,k]/A[k,k]      \n",
        "      L[i,k] = A[i,k]/A[k,k]\n",
        "      if math.isinf(A[i,k]/A[k,k]):\n",
        "        raise Exception(\"analysis is not possible\")\n",
        "      for j in range(k+1,n):      \n",
        "        A[i,j] -= A[i,k]*A[k,j] \n",
        "        U[i,j] -= L[i,k]*A[k,j]\n",
        "        if math.isinf(A[i,j]):\n",
        "          raise Exception(\"analysis is not possible\")\n",
        "    \n",
        "  return L,U"
      ],
      "execution_count": 29,
      "outputs": []
    },
    {
      "cell_type": "code",
      "metadata": {
        "id": "SIvOD49rZeiL"
      },
      "source": [
        "def LU_pivot(A):\n",
        "  n = A.shape[0]\n",
        "  L = np.zeros_like(A)\n",
        "  U = np.zeros_like(A)\n",
        "\n",
        "  for i in range(0, n):\n",
        "    L[i, i] = 1\n",
        "\n",
        "  n = A.shape[0]\n",
        "  for k in range(n-1):\n",
        "    max_row_index = np.argmax(abs(A[k:n,k])) + k\n",
        "    A[[k,max_row_index]] = A[[max_row_index,k]]\n",
        "\n",
        "    for i in range(k+1,n):          \n",
        "      A[i,k] = A[i,k]/A[k,k]      \n",
        "      L[i,k] = A[i,k]/A[k,k]\n",
        "      for j in range(k+1,n):      \n",
        "        A[i,j] -= A[i,k]*A[k,j]   \n",
        "        U[i,j] -= L[i,k]*A[k,j]\n",
        "    \n",
        "  return L,U"
      ],
      "execution_count": 30,
      "outputs": []
    },
    {
      "cell_type": "code",
      "metadata": {
        "id": "of3_mTLxZqqq"
      },
      "source": [
        "x = [4, 16, 64, 256, 1024]\n",
        "LU_times = []\n",
        "LU_partialpivot_times = []\n",
        "\n",
        "for n in dim:\n",
        "    A = diags([-1, 4, -1], [-1, 0, 1], shape=(n, n)).toarray()   \n",
        "    s_time=time.time()\n",
        "    L, U = LU(A) \n",
        "    e_time=time.time()\n",
        "    LU_times.append(e_time - s_time)\n",
        "\n",
        "for n in dim:\n",
        "    A = diags([-1, 4, -1], [-1, 0, 1], shape=(n, n)).toarray()   \n",
        "    s_time=time.time()\n",
        "    L, U = LU_pivot(A) \n",
        "    e_time=time.time()\n",
        "    LU_partialpivot_times.append(e_time - s_time)"
      ],
      "execution_count": 31,
      "outputs": []
    },
    {
      "cell_type": "code",
      "metadata": {
        "colab": {
          "base_uri": "https://localhost:8080/"
        },
        "id": "WqwgXgqTaEBk",
        "outputId": "e08c5e7f-403b-48ac-e2c1-dd97f6069375"
      },
      "source": [
        "lu_ratio = []\n",
        "for i in range(1,4):\n",
        "  lu_ratio.append(LU_times[i + 1]/LU_times[i])\n",
        "\n",
        "avg_lu_ratio = sum(lu_ratio) / len(lu_ratio)\n",
        "print(avg_lu_ratio)"
      ],
      "execution_count": 38,
      "outputs": [
        {
          "output_type": "stream",
          "text": [
            "60.68981960773878\n"
          ],
          "name": "stdout"
        }
      ]
    },
    {
      "cell_type": "code",
      "metadata": {
        "id": "jfOLKQ_iaTHf",
        "colab": {
          "base_uri": "https://localhost:8080/"
        },
        "outputId": "a92ebb4b-2056-47e1-c85e-40132d60228a"
      },
      "source": [
        "lu_pp_ratio = []\n",
        "for i in range(1,4):\n",
        "  lu_pp_ratio.append(LU_PP_times[i + 1]/LU_PP_times[i])\n",
        "\n",
        "avg_lu_pp_ratio = sum(lu_pp_ratio) / len(lu_pp_ratio)\n",
        "print(avg_lu_pp_ratio)"
      ],
      "execution_count": 37,
      "outputs": [
        {
          "output_type": "stream",
          "text": [
            "62.44924945368491\n"
          ],
          "name": "stdout"
        }
      ]
    },
    {
      "cell_type": "markdown",
      "metadata": {
        "id": "VWWdBgbzahpx"
      },
      "source": [
        "در بالا دیدیم که تقریبا با ۴ برابر شدن دامنه ماتریس‌ها زمان اجرای تجزیه تقریبا در هر دو روش ۶۴ برابر می‌شود که درصورت بیشتر کردن میزان اطلاعات درحال بررسی قطعا این اعداد به ۶۴ نزدیک‌تر خواهد شد"
      ]
    },
    {
      "cell_type": "markdown",
      "metadata": {
        "id": "zKGc1rcyk7Gx"
      },
      "source": [
        "استاد در انجام این پروژه بنده از دوست عزیزم آقای طغیانی بسیار کمک گرفتم \n"
      ]
    }
  ]
}